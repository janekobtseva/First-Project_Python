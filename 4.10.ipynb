{
 "cells": [
  {
   "cell_type": "code",
   "execution_count": 1,
   "id": "eed6ad08-7fd6-48bb-961f-f466e5885883",
   "metadata": {},
   "outputs": [],
   "source": [
    "# Import libraries\n",
    "import pandas as pd\n",
    "import numpy as np\n",
    "import os\n",
    "import matplotlib.pyplot as plt\n",
    "import seaborn as sns\n",
    "import scipy"
   ]
  },
  {
   "cell_type": "code",
   "execution_count": 3,
   "id": "c7e80e9d-277b-46a1-b61b-7df572071e32",
   "metadata": {},
   "outputs": [],
   "source": [
    "# Import atest version of your merged project data set \n",
    "path_merge = r'/Users/janekobtseva/19-09-2024 Instacart Basket Analysis/02 Data/Prepared Data/merge_4_9.pkl'"
   ]
  },
  {
   "cell_type": "code",
   "execution_count": 5,
   "id": "1e4c7427-1a07-467e-8666-b07b38766340",
   "metadata": {},
   "outputs": [],
   "source": [
    "df_merge = pd.read_pickle(os.path.join(path_merge))"
   ]
  },
  {
   "cell_type": "code",
   "execution_count": 6,
   "id": "828bb673-d889-42b2-9847-9aabbdac3423",
   "metadata": {},
   "outputs": [
    {
     "name": "stdout",
     "output_type": "stream",
     "text": [
      "<class 'pandas.core.frame.DataFrame'>\n",
      "RangeIndex: 32406041 entries, 0 to 32406040\n",
      "Data columns (total 33 columns):\n",
      " #   Column                          Dtype  \n",
      "---  ------                          -----  \n",
      " 0   Unnamed: 0                      int64  \n",
      " 1   product_id                      int64  \n",
      " 2   product_name                    object \n",
      " 3   aisle_id                        int64  \n",
      " 4   department_id                   int64  \n",
      " 5   prices                          float64\n",
      " 6   order_id                        int64  \n",
      " 7   user_id                         int64  \n",
      " 8   eval_set                        object \n",
      " 9   order_number                    int64  \n",
      " 10  order_day_of_week               int64  \n",
      " 11  order_hour_of_day               int64  \n",
      " 12  days_since_prior_order          float64\n",
      " 13  add_to_cart_order               int64  \n",
      " 14  reordered                       int64  \n",
      " 15  price_range_loc                 object \n",
      " 16  Busiest day                     object \n",
      " 17  busiest_days_flag               object \n",
      " 18  busiest_period_of_day_flag      object \n",
      " 19  max_order                       int64  \n",
      " 20  loyalty_flag                    object \n",
      " 21  prices_mean                     float64\n",
      " 22  Spending_flag                   object \n",
      " 23  days_since_prior_order_median   float64\n",
      " 24  days_SPO_median                 float64\n",
      " 25  Frequency_flag                  object \n",
      " 26  gender                          object \n",
      " 27  state                           object \n",
      " 28  age                             int64  \n",
      " 29  date_joined                     object \n",
      " 30  n_dependants                    int64  \n",
      " 31  fam_status                      object \n",
      " 32  income                          int64  \n",
      "dtypes: float64(5), int64(15), object(13)\n",
      "memory usage: 8.0+ GB\n"
     ]
    }
   ],
   "source": [
    "df_merge.info()"
   ]
  },
  {
   "cell_type": "code",
   "execution_count": 7,
   "id": "92bea22b-477c-4289-b0aa-75704676fbe8",
   "metadata": {},
   "outputs": [],
   "source": [
    "#Consider any security implications that might exist for this new data. \n",
    "#You’ll need to address any PII data in the data before continuing your analysis.\n",
    "\n",
    "#Not anymore, as I have deleted First and Second names, as we have user_id\n",
    "#Maybe we still need it, as we have \"State\", and it is part of the address. But I believe it is to general still for PII"
   ]
  },
  {
   "cell_type": "code",
   "execution_count": 8,
   "id": "c7586fe0-fa0a-4714-8ccc-e8cdd8e232af",
   "metadata": {},
   "outputs": [],
   "source": [
    "#Create a regional segmentation of the data. create a “Region” column based on the “State”\n",
    "\n",
    "df_merge.loc[(df_merge['state'] == 'Maine')|\n",
    "(df_merge['state'] == 'New Hampshire')|\n",
    "(df_merge['state'] == 'Vermont')|\n",
    "(df_merge['state'] == 'Massachusetts')|\n",
    "(df_merge['state'] == 'Rhode Island')|\n",
    "(df_merge['state'] == 'Connecticut')|\n",
    "(df_merge['state'] == 'New York')|\n",
    "(df_merge['state'] == 'Pennsylvania')| \n",
    "(df_merge['state'] == 'New Jersey'), 'Region'] = 'Northeast'"
   ]
  },
  {
   "cell_type": "code",
   "execution_count": 9,
   "id": "03bc9a4b-4041-4b3d-8eb6-a2f8b238e373",
   "metadata": {},
   "outputs": [],
   "source": [
    "df_merge.loc[(df_merge['state'] == 'Wisconsin')|\n",
    "(df_merge['state'] == 'Michigan')|\n",
    "(df_merge['state'] == 'Illinois')|\n",
    "(df_merge['state'] == 'Indiana')|\n",
    "(df_merge['state'] == 'Ohio')|\n",
    "(df_merge['state'] == 'North Dakota')|\n",
    "(df_merge['state'] == 'South Dakota')|\n",
    "(df_merge['state'] == 'Nebraska')| \n",
    "(df_merge['state'] == 'Kansas')|\n",
    "(df_merge['state'] == 'Minnesota')|\n",
    "(df_merge['state'] == 'Iowa')| \n",
    "(df_merge['state'] == 'Missouri'), 'Region'] = 'Midwest'"
   ]
  },
  {
   "cell_type": "code",
   "execution_count": 10,
   "id": "1bcd6092-fe09-4fab-8e12-b6fed77044c4",
   "metadata": {},
   "outputs": [],
   "source": [
    "df_merge.loc[(df_merge['state'] == 'Delaware')| \n",
    "(df_merge['state'] == 'Maryland')|\n",
    "(df_merge['state'] == 'District of Columbia')|\n",
    "(df_merge['state'] == 'Virginia')|\n",
    "(df_merge['state'] == 'West Virginia')|\n",
    "(df_merge['state'] == 'North Carolina')|\n",
    "(df_merge['state'] == 'South Carolina')|\n",
    "(df_merge['state'] == 'Georgia')| \n",
    "(df_merge['state'] == 'Florida')|\n",
    "(df_merge['state'] == 'Kentucky')|\n",
    "(df_merge['state'] == 'Tennessee')| \n",
    "(df_merge['state'] == 'Mississippi')|\n",
    "(df_merge['state'] == 'Alabama')|\n",
    "(df_merge['state'] == 'Oklahoma')| \n",
    "(df_merge['state'] == 'Texas') |\n",
    "(df_merge['state'] == 'Arkansas') |\n",
    "(df_merge['state'] == 'Louisiana'), 'Region'] = 'South'"
   ]
  },
  {
   "cell_type": "code",
   "execution_count": 11,
   "id": "0db4002d-0e30-411c-b8aa-9450e2417abb",
   "metadata": {},
   "outputs": [],
   "source": [
    "df_merge.loc[(df_merge['state'] == 'Idaho') | \n",
    "(df_merge['state'] == 'Montana')|  \n",
    "(df_merge['state'] == 'Wyoming')|\n",
    "(df_merge['state'] == 'Nevada')|\n",
    "(df_merge['state'] == 'Utah')|\n",
    "(df_merge['state'] == 'Colorado')|\n",
    "(df_merge['state'] == 'Arizona')|\n",
    "(df_merge['state'] == 'New Mexico')| \n",
    "(df_merge['state'] == 'Alaska')|\n",
    "(df_merge['state'] == 'Washington')|\n",
    "(df_merge['state'] == 'Oregon')|\n",
    "(df_merge['state'] == 'California')|\n",
    "(df_merge['state'] == 'Hawaii'), 'Region'] = 'West'"
   ]
  },
  {
   "cell_type": "code",
   "execution_count": 12,
   "id": "4f1ce2e1-3808-4aa8-bf0b-e306e3610529",
   "metadata": {},
   "outputs": [
    {
     "data": {
      "text/plain": [
       "Region\n",
       "South        10792300\n",
       "West          8293217\n",
       "Midwest       7597585\n",
       "Northeast     5722939\n",
       "Name: count, dtype: int64"
      ]
     },
     "execution_count": 12,
     "metadata": {},
     "output_type": "execute_result"
    }
   ],
   "source": [
    "df_merge['Region'].value_counts(dropna=False)"
   ]
  },
  {
   "cell_type": "code",
   "execution_count": 13,
   "id": "e64a4a3a-5f4a-401d-82d8-997830da8db7",
   "metadata": {},
   "outputs": [],
   "source": [
    "#Determine whether there’s a difference in spending habits between the different U.S. regions. \n",
    "#(Hint: You can do this by crossing the variable you just created with the spending flag.)\n",
    "\n",
    "crosstab = pd.crosstab(df_merge['Region'], df_merge['Spending_flag'], dropna = False)"
   ]
  },
  {
   "cell_type": "code",
   "execution_count": 14,
   "id": "b023312b-766d-426f-89f8-d659e3c628f6",
   "metadata": {},
   "outputs": [
    {
     "data": {
      "text/html": [
       "<div>\n",
       "<style scoped>\n",
       "    .dataframe tbody tr th:only-of-type {\n",
       "        vertical-align: middle;\n",
       "    }\n",
       "\n",
       "    .dataframe tbody tr th {\n",
       "        vertical-align: top;\n",
       "    }\n",
       "\n",
       "    .dataframe thead th {\n",
       "        text-align: right;\n",
       "    }\n",
       "</style>\n",
       "<table border=\"1\" class=\"dataframe\">\n",
       "  <thead>\n",
       "    <tr style=\"text-align: right;\">\n",
       "      <th>Spending_flag</th>\n",
       "      <th>High spender</th>\n",
       "      <th>Low spender</th>\n",
       "    </tr>\n",
       "    <tr>\n",
       "      <th>Region</th>\n",
       "      <th></th>\n",
       "      <th></th>\n",
       "    </tr>\n",
       "  </thead>\n",
       "  <tbody>\n",
       "    <tr>\n",
       "      <th>Midwest</th>\n",
       "      <td>155979</td>\n",
       "      <td>7441606</td>\n",
       "    </tr>\n",
       "    <tr>\n",
       "      <th>Northeast</th>\n",
       "      <td>108226</td>\n",
       "      <td>5614713</td>\n",
       "    </tr>\n",
       "    <tr>\n",
       "      <th>South</th>\n",
       "      <td>209693</td>\n",
       "      <td>10582607</td>\n",
       "    </tr>\n",
       "    <tr>\n",
       "      <th>West</th>\n",
       "      <td>160354</td>\n",
       "      <td>8132863</td>\n",
       "    </tr>\n",
       "  </tbody>\n",
       "</table>\n",
       "</div>"
      ],
      "text/plain": [
       "Spending_flag  High spender  Low spender\n",
       "Region                                  \n",
       "Midwest              155979      7441606\n",
       "Northeast            108226      5614713\n",
       "South                209693     10582607\n",
       "West                 160354      8132863"
      ]
     },
     "execution_count": 14,
     "metadata": {},
     "output_type": "execute_result"
    }
   ],
   "source": [
    "crosstab\n",
    "\n",
    "#Even though, South region shows the biggest number of spenders\n",
    "#Midwest and West have similar distribution among low and High spenders\n",
    "#Northest shows the smallest number of spenders"
   ]
  },
  {
   "cell_type": "code",
   "execution_count": 15,
   "id": "791d8c37-97d3-4df2-88eb-e1894595de02",
   "metadata": {},
   "outputs": [
    {
     "name": "stdout",
     "output_type": "stream",
     "text": [
      "<class 'pandas.core.frame.DataFrame'>\n",
      "RangeIndex: 32406041 entries, 0 to 32406040\n",
      "Data columns (total 34 columns):\n",
      " #   Column                          Dtype  \n",
      "---  ------                          -----  \n",
      " 0   Unnamed: 0                      int64  \n",
      " 1   product_id                      int64  \n",
      " 2   product_name                    object \n",
      " 3   aisle_id                        int64  \n",
      " 4   department_id                   int64  \n",
      " 5   prices                          float64\n",
      " 6   order_id                        int64  \n",
      " 7   user_id                         int64  \n",
      " 8   eval_set                        object \n",
      " 9   order_number                    int64  \n",
      " 10  order_day_of_week               int64  \n",
      " 11  order_hour_of_day               int64  \n",
      " 12  days_since_prior_order          float64\n",
      " 13  add_to_cart_order               int64  \n",
      " 14  reordered                       int64  \n",
      " 15  price_range_loc                 object \n",
      " 16  Busiest day                     object \n",
      " 17  busiest_days_flag               object \n",
      " 18  busiest_period_of_day_flag      object \n",
      " 19  max_order                       int64  \n",
      " 20  loyalty_flag                    object \n",
      " 21  prices_mean                     float64\n",
      " 22  Spending_flag                   object \n",
      " 23  days_since_prior_order_median   float64\n",
      " 24  days_SPO_median                 float64\n",
      " 25  Frequency_flag                  object \n",
      " 26  gender                          object \n",
      " 27  state                           object \n",
      " 28  age                             int64  \n",
      " 29  date_joined                     object \n",
      " 30  n_dependants                    int64  \n",
      " 31  fam_status                      object \n",
      " 32  income                          int64  \n",
      " 33  Region                          object \n",
      "dtypes: float64(5), int64(15), object(14)\n",
      "memory usage: 8.2+ GB\n"
     ]
    }
   ],
   "source": [
    "df_merge.info()"
   ]
  },
  {
   "cell_type": "code",
   "execution_count": 16,
   "id": "e63256b4-dd52-4417-b53e-ed072ff48207",
   "metadata": {},
   "outputs": [
    {
     "data": {
      "text/plain": [
       "(32406041, 34)"
      ]
     },
     "execution_count": 16,
     "metadata": {},
     "output_type": "execute_result"
    }
   ],
   "source": [
    "df_merge.shape"
   ]
  },
  {
   "cell_type": "code",
   "execution_count": 17,
   "id": "e7004057-869f-443d-875b-55e4ab106f8c",
   "metadata": {},
   "outputs": [],
   "source": [
    "#Create an exclusion flag for low-activity customers (customers with less than 5 orders) and exclude them from the data. \n",
    "#Make sure you export this sample.\n",
    "\n",
    "df_high_activity_customers = df_merge.drop(df_merge[df_merge.order_number < 5].index)"
   ]
  },
  {
   "cell_type": "code",
   "execution_count": 18,
   "id": "385751d3-7ce3-4065-9339-4208e4eb8f9d",
   "metadata": {},
   "outputs": [
    {
     "data": {
      "text/plain": [
       "(24415721, 34)"
      ]
     },
     "execution_count": 18,
     "metadata": {},
     "output_type": "execute_result"
    }
   ],
   "source": [
    "df_high_activity_customers.shape"
   ]
  },
  {
   "cell_type": "code",
   "execution_count": 19,
   "id": "9454b646-05e6-4c6a-b388-85de7492c166",
   "metadata": {},
   "outputs": [],
   "source": [
    "#Export file in pickle format as ords_prods_merge_new_variable.pkl\n",
    "\n",
    "path_prepared_data = r'/Users/janekobtseva/19-09-2024 Instacart Basket Analysis/02 Data/Prepared Data'"
   ]
  },
  {
   "cell_type": "code",
   "execution_count": 20,
   "id": "485af10a-4b22-4c18-bc51-aeab31340e53",
   "metadata": {},
   "outputs": [],
   "source": [
    "df_high_activity_customers.to_pickle(os.path.join(path_prepared_data, 'high_activity_customers_4.10.pkl'))"
   ]
  },
  {
   "cell_type": "code",
   "execution_count": 21,
   "id": "59e36148-472c-45c4-a742-d2bc091489c1",
   "metadata": {},
   "outputs": [],
   "source": [
    "#Create a profiling variable based on age, income, certain goods in the “department_id” column, and number of dependents. \n",
    "#You might also use the “orders_day_of_week” and “order_hour_of_day” columns if you can think of a way they would impact customer profiles. \n",
    "#Hint: As an example, try thinking of what characteristics would lead you to the profile “Single adult” or “Young parent.”"
   ]
  },
  {
   "cell_type": "code",
   "execution_count": 25,
   "id": "a4101cee-cce1-48d1-bfab-aa10bc941840",
   "metadata": {},
   "outputs": [],
   "source": [
    "df_merge.loc[(df_merge['age'] <= 30 )&\n",
    "(df_merge['income'] <= 30000 )&\n",
    "(df_merge['n_dependants'] == 0)&\n",
    "(df_merge['department_id'] == 1)|\n",
    "(df_merge['department_id'] == 7), 'profiling_variable_1' ] = 'Student'"
   ]
  },
  {
   "cell_type": "code",
   "execution_count": 26,
   "id": "3ec5ac58-41a0-4ae5-8b10-7015ece1c30e",
   "metadata": {},
   "outputs": [],
   "source": [
    "df_merge.loc[(df_merge['age'] >= 30 )&\n",
    "(df_merge['income'] <= 60000)&\n",
    "(df_merge['n_dependants'] == 0)&\n",
    "(df_merge['department_id'] == 12)|\n",
    "(df_merge['department_id'] == 5),'profiling_variable_1'] = 'Single Adult'"
   ]
  },
  {
   "cell_type": "code",
   "execution_count": 27,
   "id": "1dd2cd33-1bba-4698-b267-5ff7d4aafdc6",
   "metadata": {},
   "outputs": [],
   "source": [
    "df_merge.loc[(df_merge['age'] <= 30 )&\n",
    "(df_merge['income'] <= 60000)&\n",
    "(df_merge['n_dependants'] >= 1)&\n",
    "(df_merge['department_id'] == 18)|\n",
    "(df_merge['department_id'] == 15), 'profiling_variable_1'] = 'Yong Parent'"
   ]
  },
  {
   "cell_type": "code",
   "execution_count": 28,
   "id": "b6d0d9a1-ab29-4b98-a49f-0ac3458979d6",
   "metadata": {},
   "outputs": [],
   "source": [
    "profiling_variable=df_merge['profiling_variable_1'].value_counts(dropna=False)"
   ]
  },
  {
   "cell_type": "code",
   "execution_count": 29,
   "id": "a11421ab-9154-4ae3-839b-d0d62b9e04aa",
   "metadata": {},
   "outputs": [
    {
     "data": {
      "image/png": "[encoded data removed]",
      "text/plain": [
       "<Figure size 640x480 with 1 Axes>"
      ]
     },
     "metadata": {},
     "output_type": "display_data"
    }
   ],
   "source": [
    "#visualization to show the distribution of profiles.\n",
    "\n",
    "bar_1 = df_merge['profiling_variable_1'].value_counts().plot.bar()"
   ]
  },
  {
   "cell_type": "code",
   "execution_count": 30,
   "id": "c8e5549e-7c20-443d-9c21-7f54e49d795b",
   "metadata": {},
   "outputs": [
    {
     "data": {
      "text/html": [
       "<div>\n",
       "<style scoped>\n",
       "    .dataframe tbody tr th:only-of-type {\n",
       "        vertical-align: middle;\n",
       "    }\n",
       "\n",
       "    .dataframe tbody tr th {\n",
       "        vertical-align: top;\n",
       "    }\n",
       "\n",
       "    .dataframe thead tr th {\n",
       "        text-align: left;\n",
       "    }\n",
       "\n",
       "    .dataframe thead tr:last-of-type th {\n",
       "        text-align: right;\n",
       "    }\n",
       "</style>\n",
       "<table border=\"1\" class=\"dataframe\">\n",
       "  <thead>\n",
       "    <tr>\n",
       "      <th></th>\n",
       "      <th colspan=\"3\" halign=\"left\">prices</th>\n",
       "    </tr>\n",
       "    <tr>\n",
       "      <th></th>\n",
       "      <th>mean</th>\n",
       "      <th>min</th>\n",
       "      <th>max</th>\n",
       "    </tr>\n",
       "    <tr>\n",
       "      <th>profiling_variable_1</th>\n",
       "      <th></th>\n",
       "      <th></th>\n",
       "      <th></th>\n",
       "    </tr>\n",
       "  </thead>\n",
       "  <tbody>\n",
       "    <tr>\n",
       "      <th>Single Adult</th>\n",
       "      <td>8.711352</td>\n",
       "      <td>1.0</td>\n",
       "      <td>25.0</td>\n",
       "    </tr>\n",
       "    <tr>\n",
       "      <th>Student</th>\n",
       "      <td>7.680101</td>\n",
       "      <td>1.0</td>\n",
       "      <td>15.0</td>\n",
       "    </tr>\n",
       "    <tr>\n",
       "      <th>Yong Parent</th>\n",
       "      <td>7.540768</td>\n",
       "      <td>1.0</td>\n",
       "      <td>15.0</td>\n",
       "    </tr>\n",
       "  </tbody>\n",
       "</table>\n",
       "</div>"
      ],
      "text/plain": [
       "                        prices           \n",
       "                          mean  min   max\n",
       "profiling_variable_1                     \n",
       "Single Adult          8.711352  1.0  25.0\n",
       "Student               7.680101  1.0  15.0\n",
       "Yong Parent           7.540768  1.0  15.0"
      ]
     },
     "execution_count": 30,
     "metadata": {},
     "output_type": "execute_result"
    }
   ],
   "source": [
    "#Aggregate the max, mean, and min variables on a customer-profile level for usage frequency and expenditure.\n",
    "df_merge.groupby('profiling_variable_1').agg({'prices': ['mean', 'min', 'max']})"
   ]
  },
  {
   "cell_type": "code",
   "execution_count": 31,
   "id": "f197d4d7-279f-4b80-bd42-3e5f7a00a279",
   "metadata": {},
   "outputs": [
    {
     "data": {
      "text/html": [
       "<div>\n",
       "<style scoped>\n",
       "    .dataframe tbody tr th:only-of-type {\n",
       "        vertical-align: middle;\n",
       "    }\n",
       "\n",
       "    .dataframe tbody tr th {\n",
       "        vertical-align: top;\n",
       "    }\n",
       "\n",
       "    .dataframe thead tr th {\n",
       "        text-align: left;\n",
       "    }\n",
       "\n",
       "    .dataframe thead tr:last-of-type th {\n",
       "        text-align: right;\n",
       "    }\n",
       "</style>\n",
       "<table border=\"1\" class=\"dataframe\">\n",
       "  <thead>\n",
       "    <tr>\n",
       "      <th></th>\n",
       "      <th colspan=\"3\" halign=\"left\">days_since_prior_order</th>\n",
       "    </tr>\n",
       "    <tr>\n",
       "      <th></th>\n",
       "      <th>mean</th>\n",
       "      <th>min</th>\n",
       "      <th>max</th>\n",
       "    </tr>\n",
       "    <tr>\n",
       "      <th>profiling_variable_1</th>\n",
       "      <th></th>\n",
       "      <th></th>\n",
       "      <th></th>\n",
       "    </tr>\n",
       "  </thead>\n",
       "  <tbody>\n",
       "    <tr>\n",
       "      <th>Single Adult</th>\n",
       "      <td>10.466239</td>\n",
       "      <td>0.0</td>\n",
       "      <td>30.0</td>\n",
       "    </tr>\n",
       "    <tr>\n",
       "      <th>Student</th>\n",
       "      <td>11.054743</td>\n",
       "      <td>0.0</td>\n",
       "      <td>30.0</td>\n",
       "    </tr>\n",
       "    <tr>\n",
       "      <th>Yong Parent</th>\n",
       "      <td>11.636825</td>\n",
       "      <td>0.0</td>\n",
       "      <td>30.0</td>\n",
       "    </tr>\n",
       "  </tbody>\n",
       "</table>\n",
       "</div>"
      ],
      "text/plain": [
       "                     days_since_prior_order           \n",
       "                                       mean  min   max\n",
       "profiling_variable_1                                  \n",
       "Single Adult                      10.466239  0.0  30.0\n",
       "Student                           11.054743  0.0  30.0\n",
       "Yong Parent                       11.636825  0.0  30.0"
      ]
     },
     "execution_count": 31,
     "metadata": {},
     "output_type": "execute_result"
    }
   ],
   "source": [
    "df_merge.groupby('profiling_variable_1').agg({'days_since_prior_order': ['mean', 'min', 'max']})"
   ]
  },
  {
   "cell_type": "code",
   "execution_count": 53,
   "id": "51e4ce8d-7b56-4c9d-9b1e-ba9e82857c7f",
   "metadata": {},
   "outputs": [],
   "source": [
    "#Compare your customer profiles with regions and departments. Can you identify a link between them? \n",
    "#Customers may demonstrate different behaviors across regions, which could make this information important.\n",
    "crosstab12 = pd.crosstab(df_merge['Region'], df_merge['profiling_variable_1'], dropna = False)"
   ]
  },
  {
   "cell_type": "code",
   "execution_count": 54,
   "id": "37ee08ff-9d75-41ca-88bb-f1f7b4e44b75",
   "metadata": {},
   "outputs": [
    {
     "data": {
      "text/html": [
       "<div>\n",
       "<style scoped>\n",
       "    .dataframe tbody tr th:only-of-type {\n",
       "        vertical-align: middle;\n",
       "    }\n",
       "\n",
       "    .dataframe tbody tr th {\n",
       "        vertical-align: top;\n",
       "    }\n",
       "\n",
       "    .dataframe thead th {\n",
       "        text-align: right;\n",
       "    }\n",
       "</style>\n",
       "<table border=\"1\" class=\"dataframe\">\n",
       "  <thead>\n",
       "    <tr style=\"text-align: right;\">\n",
       "      <th>profiling_variable_1</th>\n",
       "      <th>Single Adult</th>\n",
       "      <th>Student</th>\n",
       "      <th>Yong Parent</th>\n",
       "      <th>NaN</th>\n",
       "    </tr>\n",
       "    <tr>\n",
       "      <th>Region</th>\n",
       "      <th></th>\n",
       "      <th></th>\n",
       "      <th></th>\n",
       "      <th></th>\n",
       "    </tr>\n",
       "  </thead>\n",
       "  <tbody>\n",
       "    <tr>\n",
       "      <th>Midwest</th>\n",
       "      <td>39137</td>\n",
       "      <td>625796</td>\n",
       "      <td>255463</td>\n",
       "      <td>6677189</td>\n",
       "    </tr>\n",
       "    <tr>\n",
       "      <th>Northeast</th>\n",
       "      <td>28743</td>\n",
       "      <td>483796</td>\n",
       "      <td>189476</td>\n",
       "      <td>5020924</td>\n",
       "    </tr>\n",
       "    <tr>\n",
       "      <th>South</th>\n",
       "      <td>55855</td>\n",
       "      <td>899547</td>\n",
       "      <td>362096</td>\n",
       "      <td>9474802</td>\n",
       "    </tr>\n",
       "    <tr>\n",
       "      <th>West</th>\n",
       "      <td>42879</td>\n",
       "      <td>680810</td>\n",
       "      <td>278750</td>\n",
       "      <td>7290778</td>\n",
       "    </tr>\n",
       "  </tbody>\n",
       "</table>\n",
       "</div>"
      ],
      "text/plain": [
       "profiling_variable_1  Single Adult  Student  Yong Parent      NaN\n",
       "Region                                                           \n",
       "Midwest                      39137   625796       255463  6677189\n",
       "Northeast                    28743   483796       189476  5020924\n",
       "South                        55855   899547       362096  9474802\n",
       "West                         42879   680810       278750  7290778"
      ]
     },
     "execution_count": 54,
     "metadata": {},
     "output_type": "execute_result"
    }
   ],
   "source": [
    "crosstab12"
   ]
  },
  {
   "cell_type": "code",
   "execution_count": 77,
   "id": "56b9dcf7-86df-4de9-a59c-7969409ccae8",
   "metadata": {},
   "outputs": [
    {
     "data": {
      "text/plain": [
       "<Axes: xlabel='department_id', ylabel='profiling_variable_1'>"
      ]
     },
     "execution_count": 77,
     "metadata": {},
     "output_type": "execute_result"
    },
    {
     "data": {
      "image/png": "[encoded data removed]",
      "text/plain": [
       "<Figure size 640x480 with 1 Axes>"
      ]
     },
     "metadata": {},
     "output_type": "display_data"
    }
   ],
   "source": [
    "sns.scatterplot(x = 'department_id', y = 'profiling_variable_1',data = df_merge)"
   ]
  },
  {
   "cell_type": "code",
   "execution_count": 51,
   "id": "cfb2c618-c9c2-4a10-be16-f639bc8848f5",
   "metadata": {},
   "outputs": [],
   "source": [
    "path_visualizations = r'/Users/janekobtseva/19-09-2024 Instacart Basket Analysis/04 Analysis/Visualizations'"
   ]
  },
  {
   "cell_type": "code",
   "execution_count": 53,
   "id": "cd5b600d-59d2-43a0-96f7-a70c045eea2a",
   "metadata": {},
   "outputs": [],
   "source": [
    "bar_1.figure.savefig(os.path.join(path_visualizations, 'distribution_of_profiles..png'))"
   ]
  },
  {
   "cell_type": "code",
   "execution_count": 55,
   "id": "042b5712-d8ab-43a2-973f-77b54f41028f",
   "metadata": {},
   "outputs": [],
   "source": [
    "#Export file in pickle format as ords_prods_merge_new_variable.pkl\n",
    "\n",
    "path_prepared_data = r'/Users/janekobtseva/19-09-2024 Instacart Basket Analysis/02 Data/Prepared Data'"
   ]
  },
  {
   "cell_type": "code",
   "execution_count": 57,
   "id": "04863bb6-8156-42bf-a011-74662ee53b3a",
   "metadata": {},
   "outputs": [],
   "source": [
    "df_merge.to_pickle(os.path.join(path_prepared_data, 'df_10.pkl'))"
   ]
  },
  {
   "cell_type": "code",
   "execution_count": null,
   "id": "692c28c9-477a-4cce-9d48-9633f4023000",
   "metadata": {},
   "outputs": [],
   "source": []
  }
 ],
 "metadata": {
  "kernelspec": {
   "display_name": "Python 3 (ipykernel)",
   "language": "python",
   "name": "python3"
  },
  "language_info": {
   "codemirror_mode": {
    "name": "ipython",
    "version": 3
   },
   "file_extension": ".py",
   "mimetype": "text/x-python",
   "name": "python",
   "nbconvert_exporter": "python",
   "pygments_lexer": "ipython3",
   "version": "3.12.4"
  }
 },
 "nbformat": 4,
 "nbformat_minor": 5
}
